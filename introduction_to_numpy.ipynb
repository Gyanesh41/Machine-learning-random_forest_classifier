{
 "cells": [
  {
   "cell_type": "code",
   "execution_count": 1,
   "id": "10e5f1ac",
   "metadata": {},
   "outputs": [],
   "source": [
    "import numpy as  np"
   ]
  },
  {
   "cell_type": "markdown",
   "id": "240b8eeb",
   "metadata": {},
   "source": [
    "# Datatypes  and Attributes"
   ]
  },
  {
   "cell_type": "code",
   "execution_count": 2,
   "id": "2b48c4ae",
   "metadata": {},
   "outputs": [
    {
     "data": {
      "text/plain": [
       "array([1, 2, 3, 4])"
      ]
     },
     "execution_count": 2,
     "metadata": {},
     "output_type": "execute_result"
    }
   ],
   "source": [
    "#Numpy main data type is array \n",
    "a1=np.array([1,2,3,4])\n",
    "#vector or 1D array\n",
    "a1"
   ]
  },
  {
   "cell_type": "code",
   "execution_count": 3,
   "id": "68c27111",
   "metadata": {},
   "outputs": [
    {
     "data": {
      "text/plain": [
       "numpy.ndarray"
      ]
     },
     "execution_count": 3,
     "metadata": {},
     "output_type": "execute_result"
    }
   ],
   "source": [
    "type(a1)"
   ]
  },
  {
   "cell_type": "code",
   "execution_count": 4,
   "id": "fac52d94",
   "metadata": {},
   "outputs": [],
   "source": [
    "a2=np.array([[1,2],[2,3]])\n",
    "a3=np.array([[[1,2,3],[44,3,44]],[[2,1,5],[23,45,7]],[[2,34,65],[12,434,5]]])"
   ]
  },
  {
   "cell_type": "code",
   "execution_count": 5,
   "id": "f4ccffa4",
   "metadata": {},
   "outputs": [
    {
     "data": {
      "text/plain": [
       "array([[1, 2],\n",
       "       [2, 3]])"
      ]
     },
     "execution_count": 5,
     "metadata": {},
     "output_type": "execute_result"
    }
   ],
   "source": [
    "#2d array or matrix\n",
    "a2"
   ]
  },
  {
   "cell_type": "code",
   "execution_count": 6,
   "id": "62cd0b28",
   "metadata": {},
   "outputs": [
    {
     "data": {
      "text/plain": [
       "array([[[  1,   2,   3],\n",
       "        [ 44,   3,  44]],\n",
       "\n",
       "       [[  2,   1,   5],\n",
       "        [ 23,  45,   7]],\n",
       "\n",
       "       [[  2,  34,  65],\n",
       "        [ 12, 434,   5]]])"
      ]
     },
     "execution_count": 6,
     "metadata": {},
     "output_type": "execute_result"
    }
   ],
   "source": [
    "#3d array or matrix\n",
    "a3"
   ]
  },
  {
   "cell_type": "code",
   "execution_count": 7,
   "id": "4b8eb190",
   "metadata": {},
   "outputs": [
    {
     "data": {
      "text/plain": [
       "(4,)"
      ]
     },
     "execution_count": 7,
     "metadata": {},
     "output_type": "execute_result"
    }
   ],
   "source": [
    "a1.shape"
   ]
  },
  {
   "cell_type": "code",
   "execution_count": 8,
   "id": "98461193",
   "metadata": {},
   "outputs": [
    {
     "data": {
      "text/plain": [
       "(2, 2)"
      ]
     },
     "execution_count": 8,
     "metadata": {},
     "output_type": "execute_result"
    }
   ],
   "source": [
    "a2.shape"
   ]
  },
  {
   "cell_type": "code",
   "execution_count": 9,
   "id": "188d7cd6",
   "metadata": {},
   "outputs": [
    {
     "data": {
      "text/plain": [
       "(3, 2, 3)"
      ]
     },
     "execution_count": 9,
     "metadata": {},
     "output_type": "execute_result"
    }
   ],
   "source": [
    "a3.shape"
   ]
  },
  {
   "cell_type": "code",
   "execution_count": 10,
   "id": "e8a53d32",
   "metadata": {},
   "outputs": [
    {
     "data": {
      "text/plain": [
       "(4, 4, 18)"
      ]
     },
     "execution_count": 10,
     "metadata": {},
     "output_type": "execute_result"
    }
   ],
   "source": [
    "a1.size,a2.size,a3.size"
   ]
  },
  {
   "cell_type": "code",
   "execution_count": 11,
   "id": "d9ad9344",
   "metadata": {},
   "outputs": [
    {
     "data": {
      "text/plain": [
       "(numpy.ndarray, numpy.ndarray, numpy.ndarray)"
      ]
     },
     "execution_count": 11,
     "metadata": {},
     "output_type": "execute_result"
    }
   ],
   "source": [
    "type(a1),type(a2),type(a3)"
   ]
  },
  {
   "cell_type": "code",
   "execution_count": 12,
   "id": "075b4792",
   "metadata": {},
   "outputs": [
    {
     "data": {
      "text/html": [
       "<div>\n",
       "<style scoped>\n",
       "    .dataframe tbody tr th:only-of-type {\n",
       "        vertical-align: middle;\n",
       "    }\n",
       "\n",
       "    .dataframe tbody tr th {\n",
       "        vertical-align: top;\n",
       "    }\n",
       "\n",
       "    .dataframe thead th {\n",
       "        text-align: right;\n",
       "    }\n",
       "</style>\n",
       "<table border=\"1\" class=\"dataframe\">\n",
       "  <thead>\n",
       "    <tr style=\"text-align: right;\">\n",
       "      <th></th>\n",
       "      <th>0</th>\n",
       "      <th>1</th>\n",
       "    </tr>\n",
       "  </thead>\n",
       "  <tbody>\n",
       "    <tr>\n",
       "      <th>0</th>\n",
       "      <td>1</td>\n",
       "      <td>2</td>\n",
       "    </tr>\n",
       "    <tr>\n",
       "      <th>1</th>\n",
       "      <td>2</td>\n",
       "      <td>3</td>\n",
       "    </tr>\n",
       "  </tbody>\n",
       "</table>\n",
       "</div>"
      ],
      "text/plain": [
       "   0  1\n",
       "0  1  2\n",
       "1  2  3"
      ]
     },
     "execution_count": 12,
     "metadata": {},
     "output_type": "execute_result"
    }
   ],
   "source": [
    "import pandas as pd\n",
    "\n",
    "df=pd.DataFrame(a2)\n",
    "df"
   ]
  },
  {
   "cell_type": "markdown",
   "id": "5bf3ccbb",
   "metadata": {},
   "source": [
    " # 2. Creating Arrays"
   ]
  },
  {
   "cell_type": "code",
   "execution_count": 13,
   "id": "9b7e0557",
   "metadata": {},
   "outputs": [
    {
     "data": {
      "text/plain": [
       "array([1, 2, 3])"
      ]
     },
     "execution_count": 13,
     "metadata": {},
     "output_type": "execute_result"
    }
   ],
   "source": [
    "sample_array=np.array([1,2,3])\n",
    "sample_array"
   ]
  },
  {
   "cell_type": "code",
   "execution_count": 14,
   "id": "cbec314a",
   "metadata": {},
   "outputs": [
    {
     "data": {
      "text/plain": [
       "dtype('int32')"
      ]
     },
     "execution_count": 14,
     "metadata": {},
     "output_type": "execute_result"
    }
   ],
   "source": [
    "sample_array.dtype"
   ]
  },
  {
   "cell_type": "code",
   "execution_count": 15,
   "id": "2e1fe9e5",
   "metadata": {},
   "outputs": [
    {
     "data": {
      "text/plain": [
       "array([[1., 1., 1.],\n",
       "       [1., 1., 1.],\n",
       "       [1., 1., 1.]])"
      ]
     },
     "execution_count": 15,
     "metadata": {},
     "output_type": "execute_result"
    }
   ],
   "source": [
    "ones=np.ones((3,3))\n",
    "ones"
   ]
  },
  {
   "cell_type": "code",
   "execution_count": 16,
   "id": "91579d8e",
   "metadata": {},
   "outputs": [
    {
     "data": {
      "text/plain": [
       "dtype('float64')"
      ]
     },
     "execution_count": 16,
     "metadata": {},
     "output_type": "execute_result"
    }
   ],
   "source": [
    "ones.dtype"
   ]
  },
  {
   "cell_type": "code",
   "execution_count": 17,
   "id": "56853dc2",
   "metadata": {},
   "outputs": [
    {
     "data": {
      "text/plain": [
       "numpy.ndarray"
      ]
     },
     "execution_count": 17,
     "metadata": {},
     "output_type": "execute_result"
    }
   ],
   "source": [
    "type(ones)"
   ]
  },
  {
   "cell_type": "code",
   "execution_count": 18,
   "id": "31973e54",
   "metadata": {},
   "outputs": [
    {
     "data": {
      "text/plain": [
       "array([[0., 0., 0.],\n",
       "       [0., 0., 0.],\n",
       "       [0., 0., 0.]])"
      ]
     },
     "execution_count": 18,
     "metadata": {},
     "output_type": "execute_result"
    }
   ],
   "source": [
    "zeros=np.zeros((3,3))\n",
    "zeros"
   ]
  },
  {
   "cell_type": "code",
   "execution_count": 19,
   "id": "f87f3261",
   "metadata": {},
   "outputs": [
    {
     "data": {
      "text/plain": [
       "array([0, 2, 4, 6, 8])"
      ]
     },
     "execution_count": 19,
     "metadata": {},
     "output_type": "execute_result"
    }
   ],
   "source": [
    "range_array=np.arange(0,10,2)\n",
    "range_array"
   ]
  },
  {
   "cell_type": "code",
   "execution_count": 20,
   "id": "cb956a0b",
   "metadata": {},
   "outputs": [
    {
     "data": {
      "text/plain": [
       "array([[1, 7],\n",
       "       [9, 3]])"
      ]
     },
     "execution_count": 20,
     "metadata": {},
     "output_type": "execute_result"
    }
   ],
   "source": [
    "random_array=np.random.randint(0,10,size=(2,2))\n",
    "random_array"
   ]
  },
  {
   "cell_type": "code",
   "execution_count": 21,
   "id": "1e14287b",
   "metadata": {},
   "outputs": [
    {
     "data": {
      "text/plain": [
       "array([[0.54584811, 0.45362401, 0.69323616],\n",
       "       [0.77855837, 0.95845153, 0.92378888]])"
      ]
     },
     "execution_count": 21,
     "metadata": {},
     "output_type": "execute_result"
    }
   ],
   "source": [
    "random_array_2=np.random.random((2,3))\n",
    "random_array_2"
   ]
  },
  {
   "cell_type": "code",
   "execution_count": 22,
   "id": "db4643a9",
   "metadata": {},
   "outputs": [
    {
     "data": {
      "text/plain": [
       "array([[4, 9, 6],\n",
       "       [3, 3, 7],\n",
       "       [7, 9, 7],\n",
       "       [8, 9, 8],\n",
       "       [7, 6, 4]])"
      ]
     },
     "execution_count": 22,
     "metadata": {},
     "output_type": "execute_result"
    }
   ],
   "source": [
    "#Pseudo-random numbers\n",
    "np.random.seed(seed=7)\n",
    "random_array_3=np.random.randint(10,size=(5,3))\n",
    "random_array_3"
   ]
  },
  {
   "cell_type": "code",
   "execution_count": 23,
   "id": "29ede55d",
   "metadata": {},
   "outputs": [
    {
     "data": {
      "text/plain": [
       "array([[0.01037415, 0.50187459, 0.49577329],\n",
       "       [0.13382953, 0.14211109, 0.21855868]])"
      ]
     },
     "execution_count": 23,
     "metadata": {},
     "output_type": "execute_result"
    }
   ],
   "source": [
    "np.random.seed(9)\n",
    "random_array_4=np.random.random((2,3))\n",
    "random_array_4"
   ]
  },
  {
   "cell_type": "markdown",
   "id": "69a83887",
   "metadata": {},
   "source": [
    "# Viewing arrays and Matrices"
   ]
  },
  {
   "cell_type": "code",
   "execution_count": 24,
   "id": "8a70f31e",
   "metadata": {},
   "outputs": [
    {
     "data": {
      "text/plain": [
       "array([0.01037415, 0.13382953, 0.14211109, 0.21855868, 0.49577329,\n",
       "       0.50187459])"
      ]
     },
     "execution_count": 24,
     "metadata": {},
     "output_type": "execute_result"
    }
   ],
   "source": [
    "np.unique(random_array_4)"
   ]
  },
  {
   "cell_type": "code",
   "execution_count": 25,
   "id": "8920e516",
   "metadata": {},
   "outputs": [
    {
     "data": {
      "text/plain": [
       "1"
      ]
     },
     "execution_count": 25,
     "metadata": {},
     "output_type": "execute_result"
    }
   ],
   "source": [
    "a1[0]"
   ]
  },
  {
   "cell_type": "code",
   "execution_count": 26,
   "id": "b3eade1a",
   "metadata": {},
   "outputs": [
    {
     "data": {
      "text/plain": [
       "array([[ 1,  2,  3],\n",
       "       [44,  3, 44]])"
      ]
     },
     "execution_count": 26,
     "metadata": {},
     "output_type": "execute_result"
    }
   ],
   "source": [
    "a3[0]"
   ]
  },
  {
   "cell_type": "code",
   "execution_count": 27,
   "id": "5c708f4c",
   "metadata": {},
   "outputs": [
    {
     "data": {
      "text/plain": [
       "array([[[ 1,  2,  3],\n",
       "        [44,  3, 44]]])"
      ]
     },
     "execution_count": 27,
     "metadata": {},
     "output_type": "execute_result"
    }
   ],
   "source": [
    "a3[:1,:,:]"
   ]
  },
  {
   "cell_type": "code",
   "execution_count": 28,
   "id": "677f47c7",
   "metadata": {},
   "outputs": [
    {
     "data": {
      "text/plain": [
       "array([[[[[8, 1, 8, 5],\n",
       "          [1, 0, 8, 8],\n",
       "          [8, 2, 6, 8],\n",
       "          [1, 8, 3, 5]],\n",
       "\n",
       "         [[3, 6, 7, 9],\n",
       "          [0, 8, 1, 8],\n",
       "          [1, 6, 6, 2],\n",
       "          [8, 4, 5, 3]],\n",
       "\n",
       "         [[4, 0, 8, 0],\n",
       "          [4, 5, 4, 8],\n",
       "          [3, 8, 4, 8],\n",
       "          [0, 1, 2, 3]],\n",
       "\n",
       "         [[7, 7, 2, 0],\n",
       "          [4, 6, 2, 2],\n",
       "          [2, 3, 9, 2],\n",
       "          [1, 3, 0, 1]]],\n",
       "\n",
       "\n",
       "        [[[0, 2, 0, 4],\n",
       "          [8, 0, 7, 0],\n",
       "          [2, 4, 0, 1],\n",
       "          [6, 7, 6, 1]],\n",
       "\n",
       "         [[7, 6, 2, 5],\n",
       "          [0, 0, 9, 5],\n",
       "          [3, 7, 0, 6],\n",
       "          [9, 2, 6, 5]],\n",
       "\n",
       "         [[0, 9, 0, 5],\n",
       "          [2, 5, 3, 6],\n",
       "          [3, 1, 6, 1],\n",
       "          [8, 8, 6, 8]],\n",
       "\n",
       "         [[1, 7, 0, 1],\n",
       "          [3, 6, 2, 0],\n",
       "          [7, 4, 2, 8],\n",
       "          [8, 1, 2, 4]]],\n",
       "\n",
       "\n",
       "        [[[8, 1, 6, 4],\n",
       "          [9, 3, 5, 1],\n",
       "          [9, 2, 1, 7],\n",
       "          [1, 8, 9, 7]],\n",
       "\n",
       "         [[3, 4, 2, 3],\n",
       "          [3, 1, 2, 6],\n",
       "          [3, 1, 2, 4],\n",
       "          [9, 6, 5, 7]],\n",
       "\n",
       "         [[5, 1, 3, 6],\n",
       "          [9, 4, 5, 2],\n",
       "          [9, 5, 2, 9],\n",
       "          [4, 8, 2, 8]],\n",
       "\n",
       "         [[1, 0, 7, 9],\n",
       "          [2, 9, 2, 7],\n",
       "          [4, 2, 7, 3],\n",
       "          [9, 1, 0, 0]]],\n",
       "\n",
       "\n",
       "        [[[9, 4, 0, 3],\n",
       "          [3, 6, 4, 8],\n",
       "          [9, 0, 6, 9],\n",
       "          [4, 7, 4, 0]],\n",
       "\n",
       "         [[3, 8, 6, 5],\n",
       "          [7, 3, 6, 2],\n",
       "          [6, 5, 5, 6],\n",
       "          [6, 5, 4, 7]],\n",
       "\n",
       "         [[1, 8, 8, 6],\n",
       "          [7, 4, 5, 3],\n",
       "          [6, 0, 3, 2],\n",
       "          [0, 6, 7, 8]],\n",
       "\n",
       "         [[9, 3, 2, 1],\n",
       "          [1, 9, 6, 4],\n",
       "          [8, 5, 3, 3],\n",
       "          [7, 3, 1, 1]]]],\n",
       "\n",
       "\n",
       "\n",
       "       [[[[0, 1, 2, 0],\n",
       "          [9, 0, 8, 6],\n",
       "          [6, 5, 6, 8],\n",
       "          [9, 9, 7, 3]],\n",
       "\n",
       "         [[4, 4, 2, 7],\n",
       "          [0, 8, 5, 8],\n",
       "          [4, 2, 1, 7],\n",
       "          [4, 0, 7, 5]],\n",
       "\n",
       "         [[3, 3, 8, 0],\n",
       "          [1, 2, 2, 6],\n",
       "          [4, 6, 6, 9],\n",
       "          [8, 4, 3, 4]],\n",
       "\n",
       "         [[3, 6, 6, 1],\n",
       "          [9, 7, 3, 5],\n",
       "          [5, 5, 8, 2],\n",
       "          [6, 4, 9, 7]]],\n",
       "\n",
       "\n",
       "        [[[2, 2, 2, 6],\n",
       "          [4, 4, 4, 1],\n",
       "          [1, 1, 1, 5],\n",
       "          [7, 0, 4, 5]],\n",
       "\n",
       "         [[4, 7, 4, 7],\n",
       "          [1, 9, 4, 1],\n",
       "          [5, 3, 0, 3],\n",
       "          [9, 9, 2, 8]],\n",
       "\n",
       "         [[7, 4, 3, 1],\n",
       "          [5, 3, 7, 9],\n",
       "          [3, 1, 5, 3],\n",
       "          [6, 7, 0, 8]],\n",
       "\n",
       "         [[5, 5, 7, 0],\n",
       "          [9, 5, 1, 0],\n",
       "          [3, 5, 6, 7],\n",
       "          [3, 9, 9, 8]]],\n",
       "\n",
       "\n",
       "        [[[9, 9, 4, 7],\n",
       "          [1, 3, 5, 8],\n",
       "          [0, 7, 8, 1],\n",
       "          [0, 4, 2, 9]],\n",
       "\n",
       "         [[8, 3, 7, 2],\n",
       "          [2, 4, 3, 1],\n",
       "          [1, 9, 3, 6],\n",
       "          [9, 4, 7, 0]],\n",
       "\n",
       "         [[1, 2, 7, 6],\n",
       "          [2, 2, 3, 4],\n",
       "          [9, 8, 9, 5],\n",
       "          [3, 6, 7, 8]],\n",
       "\n",
       "         [[4, 7, 6, 6],\n",
       "          [8, 4, 7, 9],\n",
       "          [4, 7, 7, 2],\n",
       "          [3, 6, 4, 9]]],\n",
       "\n",
       "\n",
       "        [[[5, 6, 3, 4],\n",
       "          [6, 3, 7, 4],\n",
       "          [0, 8, 2, 6],\n",
       "          [3, 9, 7, 9]],\n",
       "\n",
       "         [[3, 9, 0, 0],\n",
       "          [0, 5, 6, 2],\n",
       "          [3, 9, 4, 2],\n",
       "          [3, 2, 8, 9]],\n",
       "\n",
       "         [[1, 5, 1, 6],\n",
       "          [1, 6, 1, 4],\n",
       "          [1, 2, 9, 2],\n",
       "          [7, 1, 7, 6]],\n",
       "\n",
       "         [[0, 0, 5, 8],\n",
       "          [4, 0, 6, 7],\n",
       "          [1, 1, 1, 7],\n",
       "          [2, 5, 5, 9]]]],\n",
       "\n",
       "\n",
       "\n",
       "       [[[[4, 6, 8, 5],\n",
       "          [1, 3, 3, 6],\n",
       "          [2, 3, 0, 0],\n",
       "          [8, 3, 6, 5]],\n",
       "\n",
       "         [[7, 2, 0, 9],\n",
       "          [8, 2, 2, 4],\n",
       "          [5, 7, 6, 4],\n",
       "          [0, 7, 2, 0]],\n",
       "\n",
       "         [[0, 5, 3, 7],\n",
       "          [9, 0, 7, 4],\n",
       "          [7, 8, 6, 1],\n",
       "          [9, 6, 4, 8]],\n",
       "\n",
       "         [[2, 1, 7, 9],\n",
       "          [1, 4, 6, 3],\n",
       "          [2, 8, 7, 1],\n",
       "          [0, 4, 3, 7]]],\n",
       "\n",
       "\n",
       "        [[[9, 4, 6, 2],\n",
       "          [6, 4, 3, 0],\n",
       "          [0, 7, 7, 5],\n",
       "          [5, 2, 4, 4]],\n",
       "\n",
       "         [[6, 3, 3, 9],\n",
       "          [7, 2, 0, 8],\n",
       "          [1, 0, 8, 5],\n",
       "          [2, 2, 2, 4]],\n",
       "\n",
       "         [[6, 4, 4, 6],\n",
       "          [3, 8, 0, 8],\n",
       "          [3, 1, 9, 5],\n",
       "          [6, 7, 5, 9]],\n",
       "\n",
       "         [[8, 1, 7, 3],\n",
       "          [9, 3, 2, 8],\n",
       "          [2, 3, 8, 2],\n",
       "          [9, 3, 0, 3]]],\n",
       "\n",
       "\n",
       "        [[[9, 4, 4, 0],\n",
       "          [3, 9, 5, 1],\n",
       "          [5, 7, 3, 7],\n",
       "          [3, 2, 3, 3]],\n",
       "\n",
       "         [[8, 3, 4, 2],\n",
       "          [8, 0, 3, 1],\n",
       "          [9, 4, 7, 3],\n",
       "          [1, 5, 8, 6]],\n",
       "\n",
       "         [[7, 7, 2, 1],\n",
       "          [6, 6, 0, 2],\n",
       "          [1, 4, 5, 1],\n",
       "          [1, 6, 8, 6]],\n",
       "\n",
       "         [[0, 9, 0, 2],\n",
       "          [9, 6, 9, 1],\n",
       "          [0, 6, 6, 0],\n",
       "          [9, 6, 8, 8]]],\n",
       "\n",
       "\n",
       "        [[[1, 3, 6, 4],\n",
       "          [0, 9, 7, 3],\n",
       "          [2, 5, 5, 1],\n",
       "          [0, 5, 6, 9]],\n",
       "\n",
       "         [[1, 5, 5, 6],\n",
       "          [2, 3, 2, 4],\n",
       "          [5, 7, 3, 6],\n",
       "          [3, 6, 1, 0]],\n",
       "\n",
       "         [[7, 2, 6, 9],\n",
       "          [6, 3, 1, 1],\n",
       "          [3, 1, 6, 8],\n",
       "          [3, 1, 5, 2]],\n",
       "\n",
       "         [[1, 2, 7, 0],\n",
       "          [7, 3, 2, 9],\n",
       "          [7, 5, 3, 7],\n",
       "          [0, 2, 5, 8]]]],\n",
       "\n",
       "\n",
       "\n",
       "       [[[[6, 7, 6, 3],\n",
       "          [0, 8, 8, 3],\n",
       "          [9, 6, 0, 7],\n",
       "          [7, 4, 2, 7]],\n",
       "\n",
       "         [[7, 2, 7, 1],\n",
       "          [6, 4, 3, 5],\n",
       "          [9, 9, 0, 7],\n",
       "          [1, 7, 1, 4]],\n",
       "\n",
       "         [[2, 3, 1, 1],\n",
       "          [0, 1, 5, 5],\n",
       "          [8, 9, 3, 3],\n",
       "          [7, 4, 5, 4]],\n",
       "\n",
       "         [[7, 1, 1, 6],\n",
       "          [2, 7, 4, 0],\n",
       "          [0, 4, 7, 9],\n",
       "          [9, 5, 6, 2]]],\n",
       "\n",
       "\n",
       "        [[[8, 0, 3, 0],\n",
       "          [7, 1, 4, 4],\n",
       "          [4, 0, 6, 4],\n",
       "          [8, 4, 3, 4]],\n",
       "\n",
       "         [[1, 3, 1, 6],\n",
       "          [0, 8, 0, 8],\n",
       "          [4, 2, 1, 5],\n",
       "          [9, 4, 5, 4]],\n",
       "\n",
       "         [[1, 0, 2, 8],\n",
       "          [8, 7, 7, 2],\n",
       "          [2, 8, 1, 7],\n",
       "          [7, 2, 3, 7]],\n",
       "\n",
       "         [[8, 9, 3, 1],\n",
       "          [0, 5, 0, 2],\n",
       "          [8, 7, 7, 7],\n",
       "          [1, 6, 7, 9]]],\n",
       "\n",
       "\n",
       "        [[[9, 2, 7, 0],\n",
       "          [3, 4, 0, 3],\n",
       "          [5, 0, 8, 5],\n",
       "          [3, 2, 2, 6]],\n",
       "\n",
       "         [[5, 2, 0, 0],\n",
       "          [4, 0, 4, 0],\n",
       "          [6, 5, 9, 4],\n",
       "          [0, 1, 0, 8]],\n",
       "\n",
       "         [[9, 8, 8, 1],\n",
       "          [8, 6, 2, 8],\n",
       "          [4, 0, 7, 5],\n",
       "          [8, 1, 7, 5]],\n",
       "\n",
       "         [[1, 5, 4, 2],\n",
       "          [7, 3, 5, 9],\n",
       "          [2, 1, 5, 7],\n",
       "          [6, 1, 8, 3]]],\n",
       "\n",
       "\n",
       "        [[[7, 0, 5, 2],\n",
       "          [7, 1, 1, 8],\n",
       "          [2, 7, 2, 1],\n",
       "          [0, 5, 7, 8]],\n",
       "\n",
       "         [[0, 4, 9, 6],\n",
       "          [9, 2, 1, 3],\n",
       "          [8, 3, 4, 8],\n",
       "          [3, 9, 4, 8]],\n",
       "\n",
       "         [[1, 1, 9, 2],\n",
       "          [3, 7, 4, 3],\n",
       "          [5, 0, 5, 5],\n",
       "          [6, 7, 9, 7]],\n",
       "\n",
       "         [[7, 9, 2, 0],\n",
       "          [9, 0, 5, 0],\n",
       "          [7, 6, 5, 2],\n",
       "          [4, 7, 0, 2]]]]])"
      ]
     },
     "execution_count": 28,
     "metadata": {},
     "output_type": "execute_result"
    }
   ],
   "source": [
    "a4=np.random.randint(10,size=(4,4,4,4,4))\n",
    "a4"
   ]
  },
  {
   "cell_type": "code",
   "execution_count": 29,
   "id": "388bedf6",
   "metadata": {},
   "outputs": [
    {
     "data": {
      "text/plain": [
       "((4, 4, 4, 4, 4), 5)"
      ]
     },
     "execution_count": 29,
     "metadata": {},
     "output_type": "execute_result"
    }
   ],
   "source": [
    "a4.shape,a4.ndim"
   ]
  },
  {
   "cell_type": "markdown",
   "id": "79276406",
   "metadata": {},
   "source": [
    "# Manipulating And Compairing Arrays"
   ]
  },
  {
   "cell_type": "code",
   "execution_count": 30,
   "id": "f40af50d",
   "metadata": {},
   "outputs": [],
   "source": [
    "ones=np.ones(4)"
   ]
  },
  {
   "cell_type": "code",
   "execution_count": 31,
   "id": "a5e990a9",
   "metadata": {},
   "outputs": [
    {
     "data": {
      "text/plain": [
       "array([0., 1., 2., 3.])"
      ]
     },
     "execution_count": 31,
     "metadata": {},
     "output_type": "execute_result"
    }
   ],
   "source": [
    "a1-ones"
   ]
  },
  {
   "cell_type": "code",
   "execution_count": 32,
   "id": "45d56933",
   "metadata": {},
   "outputs": [
    {
     "data": {
      "text/plain": [
       "array([2., 3., 4., 5.])"
      ]
     },
     "execution_count": 32,
     "metadata": {},
     "output_type": "execute_result"
    }
   ],
   "source": [
    "a1+ones"
   ]
  },
  {
   "cell_type": "code",
   "execution_count": 33,
   "id": "b18908a4",
   "metadata": {},
   "outputs": [
    {
     "data": {
      "text/plain": [
       "array([1., 2., 3., 4.])"
      ]
     },
     "execution_count": 33,
     "metadata": {},
     "output_type": "execute_result"
    }
   ],
   "source": [
    "a1*ones"
   ]
  },
  {
   "cell_type": "code",
   "execution_count": 34,
   "id": "f8d8f0b9",
   "metadata": {},
   "outputs": [
    {
     "data": {
      "text/plain": [
       "array([[1, 4],\n",
       "       [2, 6]])"
      ]
     },
     "execution_count": 34,
     "metadata": {},
     "output_type": "execute_result"
    }
   ],
   "source": [
    "a1[:2]*a2"
   ]
  },
  {
   "cell_type": "code",
   "execution_count": 35,
   "id": "ca5376cb",
   "metadata": {},
   "outputs": [
    {
     "data": {
      "text/plain": [
       "array([[1, 4],\n",
       "       [4, 9]], dtype=int32)"
      ]
     },
     "execution_count": 35,
     "metadata": {},
     "output_type": "execute_result"
    }
   ],
   "source": [
    "a2**2"
   ]
  },
  {
   "cell_type": "code",
   "execution_count": 36,
   "id": "bbf3a7d3",
   "metadata": {},
   "outputs": [
    {
     "data": {
      "text/plain": [
       "array([[1, 4],\n",
       "       [4, 9]], dtype=int32)"
      ]
     },
     "execution_count": 36,
     "metadata": {},
     "output_type": "execute_result"
    }
   ],
   "source": [
    "np.square(a2)"
   ]
  },
  {
   "cell_type": "code",
   "execution_count": 37,
   "id": "8f6f2609",
   "metadata": {},
   "outputs": [
    {
     "data": {
      "text/plain": [
       "array([2., 3., 4., 5.])"
      ]
     },
     "execution_count": 37,
     "metadata": {},
     "output_type": "execute_result"
    }
   ],
   "source": [
    "np.add(a1,ones)"
   ]
  },
  {
   "cell_type": "code",
   "execution_count": 38,
   "id": "2de41b7e",
   "metadata": {},
   "outputs": [
    {
     "data": {
      "text/plain": [
       "array([ 3,  6,  9, 12])"
      ]
     },
     "execution_count": 38,
     "metadata": {},
     "output_type": "execute_result"
    }
   ],
   "source": [
    "a1*3"
   ]
  },
  {
   "cell_type": "code",
   "execution_count": 39,
   "id": "a6c7c59d",
   "metadata": {},
   "outputs": [
    {
     "data": {
      "text/plain": [
       "array([0.        , 0.69314718, 1.09861229, 1.38629436])"
      ]
     },
     "execution_count": 39,
     "metadata": {},
     "output_type": "execute_result"
    }
   ],
   "source": [
    "np.log(a1)"
   ]
  },
  {
   "cell_type": "markdown",
   "id": "08584823",
   "metadata": {},
   "source": [
    "# Aggregation"
   ]
  },
  {
   "cell_type": "code",
   "execution_count": 40,
   "id": "16d13968",
   "metadata": {},
   "outputs": [
    {
     "data": {
      "text/plain": [
       "list"
      ]
     },
     "execution_count": 40,
     "metadata": {},
     "output_type": "execute_result"
    }
   ],
   "source": [
    "a1=np.array([1,2,3])\n",
    "list1=[1,2,3]\n",
    "type(list1)"
   ]
  },
  {
   "cell_type": "code",
   "execution_count": 41,
   "id": "6d930c38",
   "metadata": {},
   "outputs": [
    {
     "data": {
      "text/plain": [
       "6"
      ]
     },
     "execution_count": 41,
     "metadata": {},
     "output_type": "execute_result"
    }
   ],
   "source": [
    "sum(list1)"
   ]
  },
  {
   "cell_type": "code",
   "execution_count": 42,
   "id": "89b88bc4",
   "metadata": {},
   "outputs": [
    {
     "data": {
      "text/plain": [
       "numpy.ndarray"
      ]
     },
     "execution_count": 42,
     "metadata": {},
     "output_type": "execute_result"
    }
   ],
   "source": [
    "type(a1)"
   ]
  },
  {
   "cell_type": "code",
   "execution_count": 43,
   "id": "08082f0a",
   "metadata": {},
   "outputs": [
    {
     "data": {
      "text/plain": [
       "6"
      ]
     },
     "execution_count": 43,
     "metadata": {},
     "output_type": "execute_result"
    }
   ],
   "source": [
    "np.sum(a1)"
   ]
  },
  {
   "cell_type": "markdown",
   "id": "5ea0ab28",
   "metadata": {},
   "source": [
    "Use python methods on python datatypes aand use numpy methods on numpy datatypes"
   ]
  },
  {
   "cell_type": "code",
   "execution_count": 44,
   "id": "98098111",
   "metadata": {},
   "outputs": [],
   "source": [
    "massive_array=np.random.random(10000)"
   ]
  },
  {
   "cell_type": "code",
   "execution_count": 45,
   "id": "03fdc0e6",
   "metadata": {},
   "outputs": [
    {
     "data": {
      "text/plain": [
       "array([0.86740437, 0.38947862, 0.59869256, ..., 0.67883724, 0.68980286,\n",
       "       0.89885215])"
      ]
     },
     "execution_count": 45,
     "metadata": {},
     "output_type": "execute_result"
    }
   ],
   "source": [
    "massive_array"
   ]
  },
  {
   "cell_type": "code",
   "execution_count": 46,
   "id": "d8c48271",
   "metadata": {},
   "outputs": [
    {
     "name": "stdout",
     "output_type": "stream",
     "text": [
      "1.67 ms ± 399 µs per loop (mean ± std. dev. of 7 runs, 1000 loops each)\n",
      "14.2 µs ± 3.44 µs per loop (mean ± std. dev. of 7 runs, 100000 loops each)\n"
     ]
    }
   ],
   "source": [
    "%timeit sum(massive_array)\n",
    "%timeit np.sum(massive_array)"
   ]
  },
  {
   "cell_type": "code",
   "execution_count": 47,
   "id": "d5decd05",
   "metadata": {},
   "outputs": [
    {
     "data": {
      "text/plain": [
       "1"
      ]
     },
     "execution_count": 47,
     "metadata": {},
     "output_type": "execute_result"
    }
   ],
   "source": [
    "np.min(a1)"
   ]
  },
  {
   "cell_type": "code",
   "execution_count": 48,
   "id": "1ab2e7b1",
   "metadata": {},
   "outputs": [
    {
     "data": {
      "text/plain": [
       "3"
      ]
     },
     "execution_count": 48,
     "metadata": {},
     "output_type": "execute_result"
    }
   ],
   "source": [
    "np.max(a1)"
   ]
  },
  {
   "cell_type": "code",
   "execution_count": 49,
   "id": "ecc26771",
   "metadata": {},
   "outputs": [
    {
     "data": {
      "text/plain": [
       "0.5"
      ]
     },
     "execution_count": 49,
     "metadata": {},
     "output_type": "execute_result"
    }
   ],
   "source": [
    "np.var(a2)"
   ]
  },
  {
   "cell_type": "code",
   "execution_count": 50,
   "id": "02c3ed8a",
   "metadata": {},
   "outputs": [
    {
     "data": {
      "text/plain": [
       "0.7071067811865476"
      ]
     },
     "execution_count": 50,
     "metadata": {},
     "output_type": "execute_result"
    }
   ],
   "source": [
    "np.std(a2)"
   ]
  },
  {
   "cell_type": "code",
   "execution_count": 51,
   "id": "e4e4a3c5",
   "metadata": {},
   "outputs": [],
   "source": [
    "high_var_array=np.array([1,100,1000,10000,100000])\n",
    "low_var_array=np.array([1,2,3,4,5])"
   ]
  },
  {
   "cell_type": "code",
   "execution_count": 52,
   "id": "6fe5c782",
   "metadata": {},
   "outputs": [
    {
     "data": {
      "text/plain": [
       "(1526464712.1600003, 2.0)"
      ]
     },
     "execution_count": 52,
     "metadata": {},
     "output_type": "execute_result"
    }
   ],
   "source": [
    "np.var(high_var_array),np.var(low_var_array)"
   ]
  },
  {
   "cell_type": "code",
   "execution_count": 53,
   "id": "2d1d0290",
   "metadata": {},
   "outputs": [
    {
     "data": {
      "image/png": "[encoded data removed]",
      "text/plain": [
       "<Figure size 640x480 with 1 Axes>"
      ]
     },
     "metadata": {},
     "output_type": "display_data"
    }
   ],
   "source": [
    "%matplotlib inline\n",
    "import matplotlib.pyplot as plt\n",
    "plt.hist(high_var_array,rwidth=1)\n",
    "plt.xscale('log')\n",
    "plt.show()"
   ]
  },
  {
   "cell_type": "code",
   "execution_count": 54,
   "id": "7b973e1e",
   "metadata": {},
   "outputs": [
    {
     "data": {
      "text/plain": [
       "<function matplotlib.pyplot.show(close=None, block=None)>"
      ]
     },
     "execution_count": 54,
     "metadata": {},
     "output_type": "execute_result"
    },
    {
     "data": {
      "image/png": "[encoded data removed]",
      "text/plain": [
       "<Figure size 640x480 with 1 Axes>"
      ]
     },
     "metadata": {},
     "output_type": "display_data"
    }
   ],
   "source": [
    "plt.hist(low_var_array)\n",
    "plt.show"
   ]
  },
  {
   "cell_type": "code",
   "execution_count": 57,
   "id": "28c75e4c",
   "metadata": {},
   "outputs": [],
   "source": [
    "a2=np.array([[1,2,3],[1,2,3]])"
   ]
  },
  {
   "cell_type": "code",
   "execution_count": 58,
   "id": "c15187f7",
   "metadata": {},
   "outputs": [
    {
     "data": {
      "text/plain": [
       "array([[[1],\n",
       "        [2]],\n",
       "\n",
       "       [[3],\n",
       "        [1]],\n",
       "\n",
       "       [[2],\n",
       "        [3]]])"
      ]
     },
     "execution_count": 58,
     "metadata": {},
     "output_type": "execute_result"
    }
   ],
   "source": [
    "#reshaping a2\n",
    "a2.reshape((3,2,1))"
   ]
  },
  {
   "cell_type": "code",
   "execution_count": 60,
   "id": "57806dd0",
   "metadata": {},
   "outputs": [
    {
     "data": {
      "text/plain": [
       "array([[[  1,   4,   9],\n",
       "        [ 44,   6, 132]],\n",
       "\n",
       "       [[  2,   2,  15],\n",
       "        [ 23,  90,  21]],\n",
       "\n",
       "       [[  2,  68, 195],\n",
       "        [ 12, 868,  15]]])"
      ]
     },
     "execution_count": 60,
     "metadata": {},
     "output_type": "execute_result"
    }
   ],
   "source": [
    "a2*a3"
   ]
  },
  {
   "cell_type": "code",
   "execution_count": 62,
   "id": "34881f4d",
   "metadata": {},
   "outputs": [
    {
     "data": {
      "text/plain": [
       "array([[1, 1],\n",
       "       [2, 2],\n",
       "       [3, 3]])"
      ]
     },
     "execution_count": 62,
     "metadata": {},
     "output_type": "execute_result"
    }
   ],
   "source": [
    "a2.transpose()"
   ]
  },
  {
   "cell_type": "markdown",
   "id": "b36c1110",
   "metadata": {},
   "source": [
    "# Dot Product"
   ]
  },
  {
   "cell_type": "code",
   "execution_count": 68,
   "id": "ce70a7a6",
   "metadata": {},
   "outputs": [],
   "source": [
    "mat1=np.array([[1,2,3],[4,5,6],[7,8,9]])"
   ]
  },
  {
   "cell_type": "code",
   "execution_count": 69,
   "id": "2d68de4d",
   "metadata": {},
   "outputs": [],
   "source": [
    "mat2=np.array([[44,5,65],[4,5,6],[4,5,6]])"
   ]
  },
  {
   "cell_type": "code",
   "execution_count": 70,
   "id": "6ed1ac1f",
   "metadata": {},
   "outputs": [
    {
     "data": {
      "text/plain": [
       "array([[ 64,  30,  95],\n",
       "       [220,  75, 326],\n",
       "       [376, 120, 557]])"
      ]
     },
     "execution_count": 70,
     "metadata": {},
     "output_type": "execute_result"
    }
   ],
   "source": [
    "np.dot(mat1,mat2)"
   ]
  },
  {
   "cell_type": "code",
   "execution_count": 79,
   "id": "824b9eae",
   "metadata": {},
   "outputs": [],
   "source": [
    "# change mat1 shape\n",
    "mat1=np.array([[1,23,3]])"
   ]
  },
  {
   "cell_type": "code",
   "execution_count": 80,
   "id": "af8c71d7",
   "metadata": {},
   "outputs": [
    {
     "data": {
      "text/plain": [
       "array([[148, 135, 221]])"
      ]
     },
     "execution_count": 80,
     "metadata": {},
     "output_type": "execute_result"
    }
   ],
   "source": [
    "np.dot(mat1,mat2)"
   ]
  },
  {
   "cell_type": "code",
   "execution_count": 81,
   "id": "bdca58f1",
   "metadata": {},
   "outputs": [
    {
     "data": {
      "text/plain": [
       "(1, 3)"
      ]
     },
     "execution_count": 81,
     "metadata": {},
     "output_type": "execute_result"
    }
   ],
   "source": [
    "mat1.shape"
   ]
  },
  {
   "cell_type": "markdown",
   "id": "d1d2f051",
   "metadata": {},
   "source": [
    "# Dot Product example"
   ]
  },
  {
   "cell_type": "code",
   "execution_count": 82,
   "id": "66dbdf6a",
   "metadata": {},
   "outputs": [
    {
     "data": {
      "text/plain": [
       "array([[13, 16,  1],\n",
       "       [ 4,  4,  8],\n",
       "       [10, 19,  5],\n",
       "       [ 7, 13,  2],\n",
       "       [ 7,  8, 15]])"
      ]
     },
     "execution_count": 82,
     "metadata": {},
     "output_type": "execute_result"
    }
   ],
   "source": [
    "np.random.seed(0)\n",
    "# Number of Jars sold\n",
    "sales_amounts=np.random.randint(1,20,size=(5,3))\n",
    "sales_amounts"
   ]
  },
  {
   "cell_type": "code",
   "execution_count": 83,
   "id": "44ae62b1",
   "metadata": {},
   "outputs": [],
   "source": [
    "weekly_sales=pd.DataFrame(sales_amounts,\n",
    "                          index=[\"Mon\",\"Tues\",\"Wed\",\"Thurs\",\"Fri\"],\n",
    "                          columns=[\"Almound Butter\",\"Peanut butter\",\"Cashew Butter\"])"
   ]
  },
  {
   "cell_type": "code",
   "execution_count": 84,
   "id": "6163429c",
   "metadata": {},
   "outputs": [
    {
     "data": {
      "text/html": [
       "<div>\n",
       "<style scoped>\n",
       "    .dataframe tbody tr th:only-of-type {\n",
       "        vertical-align: middle;\n",
       "    }\n",
       "\n",
       "    .dataframe tbody tr th {\n",
       "        vertical-align: top;\n",
       "    }\n",
       "\n",
       "    .dataframe thead th {\n",
       "        text-align: right;\n",
       "    }\n",
       "</style>\n",
       "<table border=\"1\" class=\"dataframe\">\n",
       "  <thead>\n",
       "    <tr style=\"text-align: right;\">\n",
       "      <th></th>\n",
       "      <th>Almound Butter</th>\n",
       "      <th>Peanut butter</th>\n",
       "      <th>Cashew Butter</th>\n",
       "    </tr>\n",
       "  </thead>\n",
       "  <tbody>\n",
       "    <tr>\n",
       "      <th>Mon</th>\n",
       "      <td>13</td>\n",
       "      <td>16</td>\n",
       "      <td>1</td>\n",
       "    </tr>\n",
       "    <tr>\n",
       "      <th>Tues</th>\n",
       "      <td>4</td>\n",
       "      <td>4</td>\n",
       "      <td>8</td>\n",
       "    </tr>\n",
       "    <tr>\n",
       "      <th>Wed</th>\n",
       "      <td>10</td>\n",
       "      <td>19</td>\n",
       "      <td>5</td>\n",
       "    </tr>\n",
       "    <tr>\n",
       "      <th>Thurs</th>\n",
       "      <td>7</td>\n",
       "      <td>13</td>\n",
       "      <td>2</td>\n",
       "    </tr>\n",
       "    <tr>\n",
       "      <th>Fri</th>\n",
       "      <td>7</td>\n",
       "      <td>8</td>\n",
       "      <td>15</td>\n",
       "    </tr>\n",
       "  </tbody>\n",
       "</table>\n",
       "</div>"
      ],
      "text/plain": [
       "       Almound Butter  Peanut butter  Cashew Butter\n",
       "Mon                13             16              1\n",
       "Tues                4              4              8\n",
       "Wed                10             19              5\n",
       "Thurs               7             13              2\n",
       "Fri                 7              8             15"
      ]
     },
     "execution_count": 84,
     "metadata": {},
     "output_type": "execute_result"
    }
   ],
   "source": [
    "weekly_sales"
   ]
  },
  {
   "cell_type": "code",
   "execution_count": 93,
   "id": "69d63c9e",
   "metadata": {},
   "outputs": [
    {
     "data": {
      "text/plain": [
       "array([10,  8, 12])"
      ]
     },
     "execution_count": 93,
     "metadata": {},
     "output_type": "execute_result"
    }
   ],
   "source": [
    "prices=np.array([10 ,8,12])\n",
    "prices"
   ]
  },
  {
   "cell_type": "code",
   "execution_count": 95,
   "id": "51a40f67",
   "metadata": {},
   "outputs": [],
   "source": [
    "butter_prices=pd.DataFrame(prices.reshape((1,3)),\n",
    "                          index=[\"Price\"],\n",
    "                          columns=[\"Almound Butter\",\"Peanut butter\",\"Cashew Butter\"])"
   ]
  },
  {
   "cell_type": "code",
   "execution_count": 96,
   "id": "9b89e287",
   "metadata": {},
   "outputs": [
    {
     "data": {
      "text/html": [
       "<div>\n",
       "<style scoped>\n",
       "    .dataframe tbody tr th:only-of-type {\n",
       "        vertical-align: middle;\n",
       "    }\n",
       "\n",
       "    .dataframe tbody tr th {\n",
       "        vertical-align: top;\n",
       "    }\n",
       "\n",
       "    .dataframe thead th {\n",
       "        text-align: right;\n",
       "    }\n",
       "</style>\n",
       "<table border=\"1\" class=\"dataframe\">\n",
       "  <thead>\n",
       "    <tr style=\"text-align: right;\">\n",
       "      <th></th>\n",
       "      <th>Almound Butter</th>\n",
       "      <th>Peanut butter</th>\n",
       "      <th>Cashew Butter</th>\n",
       "    </tr>\n",
       "  </thead>\n",
       "  <tbody>\n",
       "    <tr>\n",
       "      <th>Price</th>\n",
       "      <td>10</td>\n",
       "      <td>8</td>\n",
       "      <td>12</td>\n",
       "    </tr>\n",
       "  </tbody>\n",
       "</table>\n",
       "</div>"
      ],
      "text/plain": [
       "       Almound Butter  Peanut butter  Cashew Butter\n",
       "Price              10              8             12"
      ]
     },
     "execution_count": 96,
     "metadata": {},
     "output_type": "execute_result"
    }
   ],
   "source": [
    "butter_prices"
   ]
  },
  {
   "cell_type": "code",
   "execution_count": 99,
   "id": "475ca9d1",
   "metadata": {},
   "outputs": [
    {
     "ename": "ValueError",
     "evalue": "shapes (3,) and (5,3) not aligned: 3 (dim 0) != 5 (dim 0)",
     "output_type": "error",
     "traceback": [
      "\u001b[1;31m---------------------------------------------------------------------------\u001b[0m",
      "\u001b[1;31mValueError\u001b[0m                                Traceback (most recent call last)",
      "\u001b[1;32m~\\AppData\\Local\\Temp\\ipykernel_4020\\1353274661.py\u001b[0m in \u001b[0;36m<module>\u001b[1;34m\u001b[0m\n\u001b[1;32m----> 1\u001b[1;33m \u001b[0mtotal_sales\u001b[0m\u001b[1;33m=\u001b[0m\u001b[0mprices\u001b[0m\u001b[1;33m.\u001b[0m\u001b[0mdot\u001b[0m\u001b[1;33m(\u001b[0m\u001b[0msales_amounts\u001b[0m\u001b[1;33m)\u001b[0m\u001b[1;33m\u001b[0m\u001b[1;33m\u001b[0m\u001b[0m\n\u001b[0m",
      "\u001b[1;31mValueError\u001b[0m: shapes (3,) and (5,3) not aligned: 3 (dim 0) != 5 (dim 0)"
     ]
    }
   ],
   "source": [
    "total_sales=prices.dot(sales_amounts)"
   ]
  },
  {
   "cell_type": "code",
   "execution_count": 101,
   "id": "be0c6aa3",
   "metadata": {},
   "outputs": [],
   "source": [
    "#shapes aren,t aligned let's  transpose\n",
    "daily_sales=prices.dot(sales_amounts.T)"
   ]
  },
  {
   "cell_type": "code",
   "execution_count": 102,
   "id": "560d4bbf",
   "metadata": {},
   "outputs": [
    {
     "data": {
      "text/plain": [
       "array([270, 168, 312, 198, 314])"
      ]
     },
     "execution_count": 102,
     "metadata": {},
     "output_type": "execute_result"
    }
   ],
   "source": [
    "daily_sales"
   ]
  },
  {
   "cell_type": "code",
   "execution_count": 103,
   "id": "17894293",
   "metadata": {},
   "outputs": [],
   "source": [
    "#for data  frame input is required in data frame format\n",
    "daily_sales=butter_prices.dot(weekly_sales.T)"
   ]
  },
  {
   "cell_type": "code",
   "execution_count": 104,
   "id": "96487d55",
   "metadata": {},
   "outputs": [
    {
     "data": {
      "text/html": [
       "<div>\n",
       "<style scoped>\n",
       "    .dataframe tbody tr th:only-of-type {\n",
       "        vertical-align: middle;\n",
       "    }\n",
       "\n",
       "    .dataframe tbody tr th {\n",
       "        vertical-align: top;\n",
       "    }\n",
       "\n",
       "    .dataframe thead th {\n",
       "        text-align: right;\n",
       "    }\n",
       "</style>\n",
       "<table border=\"1\" class=\"dataframe\">\n",
       "  <thead>\n",
       "    <tr style=\"text-align: right;\">\n",
       "      <th></th>\n",
       "      <th>Mon</th>\n",
       "      <th>Tues</th>\n",
       "      <th>Wed</th>\n",
       "      <th>Thurs</th>\n",
       "      <th>Fri</th>\n",
       "    </tr>\n",
       "  </thead>\n",
       "  <tbody>\n",
       "    <tr>\n",
       "      <th>Price</th>\n",
       "      <td>270</td>\n",
       "      <td>168</td>\n",
       "      <td>312</td>\n",
       "      <td>198</td>\n",
       "      <td>314</td>\n",
       "    </tr>\n",
       "  </tbody>\n",
       "</table>\n",
       "</div>"
      ],
      "text/plain": [
       "       Mon  Tues  Wed  Thurs  Fri\n",
       "Price  270   168  312    198  314"
      ]
     },
     "execution_count": 104,
     "metadata": {},
     "output_type": "execute_result"
    }
   ],
   "source": [
    "daily_sales"
   ]
  },
  {
   "cell_type": "code",
   "execution_count": 106,
   "id": "6c566ee1",
   "metadata": {},
   "outputs": [],
   "source": [
    "weekly_sales[\"Total\"]=daily_sales.T"
   ]
  },
  {
   "cell_type": "code",
   "execution_count": 108,
   "id": "140f4b31",
   "metadata": {},
   "outputs": [
    {
     "data": {
      "text/html": [
       "<div>\n",
       "<style scoped>\n",
       "    .dataframe tbody tr th:only-of-type {\n",
       "        vertical-align: middle;\n",
       "    }\n",
       "\n",
       "    .dataframe tbody tr th {\n",
       "        vertical-align: top;\n",
       "    }\n",
       "\n",
       "    .dataframe thead th {\n",
       "        text-align: right;\n",
       "    }\n",
       "</style>\n",
       "<table border=\"1\" class=\"dataframe\">\n",
       "  <thead>\n",
       "    <tr style=\"text-align: right;\">\n",
       "      <th></th>\n",
       "      <th>Almound Butter</th>\n",
       "      <th>Peanut butter</th>\n",
       "      <th>Cashew Butter</th>\n",
       "      <th>Total</th>\n",
       "    </tr>\n",
       "  </thead>\n",
       "  <tbody>\n",
       "    <tr>\n",
       "      <th>Mon</th>\n",
       "      <td>13</td>\n",
       "      <td>16</td>\n",
       "      <td>1</td>\n",
       "      <td>270</td>\n",
       "    </tr>\n",
       "    <tr>\n",
       "      <th>Tues</th>\n",
       "      <td>4</td>\n",
       "      <td>4</td>\n",
       "      <td>8</td>\n",
       "      <td>168</td>\n",
       "    </tr>\n",
       "    <tr>\n",
       "      <th>Wed</th>\n",
       "      <td>10</td>\n",
       "      <td>19</td>\n",
       "      <td>5</td>\n",
       "      <td>312</td>\n",
       "    </tr>\n",
       "    <tr>\n",
       "      <th>Thurs</th>\n",
       "      <td>7</td>\n",
       "      <td>13</td>\n",
       "      <td>2</td>\n",
       "      <td>198</td>\n",
       "    </tr>\n",
       "    <tr>\n",
       "      <th>Fri</th>\n",
       "      <td>7</td>\n",
       "      <td>8</td>\n",
       "      <td>15</td>\n",
       "      <td>314</td>\n",
       "    </tr>\n",
       "  </tbody>\n",
       "</table>\n",
       "</div>"
      ],
      "text/plain": [
       "       Almound Butter  Peanut butter  Cashew Butter  Total\n",
       "Mon                13             16              1    270\n",
       "Tues                4              4              8    168\n",
       "Wed                10             19              5    312\n",
       "Thurs               7             13              2    198\n",
       "Fri                 7              8             15    314"
      ]
     },
     "execution_count": 108,
     "metadata": {},
     "output_type": "execute_result"
    }
   ],
   "source": [
    "weekly_sales"
   ]
  },
  {
   "cell_type": "code",
   "execution_count": 115,
   "id": "d74f4b1e",
   "metadata": {},
   "outputs": [],
   "source": [
    "weekly_sales.rename(columns={\"Total\":\"Total ($)\"},inplace=True)"
   ]
  },
  {
   "cell_type": "code",
   "execution_count": 116,
   "id": "4f4e0eb5",
   "metadata": {},
   "outputs": [
    {
     "data": {
      "text/html": [
       "<div>\n",
       "<style scoped>\n",
       "    .dataframe tbody tr th:only-of-type {\n",
       "        vertical-align: middle;\n",
       "    }\n",
       "\n",
       "    .dataframe tbody tr th {\n",
       "        vertical-align: top;\n",
       "    }\n",
       "\n",
       "    .dataframe thead th {\n",
       "        text-align: right;\n",
       "    }\n",
       "</style>\n",
       "<table border=\"1\" class=\"dataframe\">\n",
       "  <thead>\n",
       "    <tr style=\"text-align: right;\">\n",
       "      <th></th>\n",
       "      <th>Almound Butter</th>\n",
       "      <th>Peanut butter</th>\n",
       "      <th>Cashew Butter</th>\n",
       "      <th>Total ($)</th>\n",
       "    </tr>\n",
       "  </thead>\n",
       "  <tbody>\n",
       "    <tr>\n",
       "      <th>Mon</th>\n",
       "      <td>13</td>\n",
       "      <td>16</td>\n",
       "      <td>1</td>\n",
       "      <td>270</td>\n",
       "    </tr>\n",
       "    <tr>\n",
       "      <th>Tues</th>\n",
       "      <td>4</td>\n",
       "      <td>4</td>\n",
       "      <td>8</td>\n",
       "      <td>168</td>\n",
       "    </tr>\n",
       "    <tr>\n",
       "      <th>Wed</th>\n",
       "      <td>10</td>\n",
       "      <td>19</td>\n",
       "      <td>5</td>\n",
       "      <td>312</td>\n",
       "    </tr>\n",
       "    <tr>\n",
       "      <th>Thurs</th>\n",
       "      <td>7</td>\n",
       "      <td>13</td>\n",
       "      <td>2</td>\n",
       "      <td>198</td>\n",
       "    </tr>\n",
       "    <tr>\n",
       "      <th>Fri</th>\n",
       "      <td>7</td>\n",
       "      <td>8</td>\n",
       "      <td>15</td>\n",
       "      <td>314</td>\n",
       "    </tr>\n",
       "  </tbody>\n",
       "</table>\n",
       "</div>"
      ],
      "text/plain": [
       "       Almound Butter  Peanut butter  Cashew Butter  Total ($)\n",
       "Mon                13             16              1        270\n",
       "Tues                4              4              8        168\n",
       "Wed                10             19              5        312\n",
       "Thurs               7             13              2        198\n",
       "Fri                 7              8             15        314"
      ]
     },
     "execution_count": 116,
     "metadata": {},
     "output_type": "execute_result"
    }
   ],
   "source": [
    "weekly_sales"
   ]
  },
  {
   "cell_type": "code",
   "execution_count": 119,
   "id": "0826ed69",
   "metadata": {},
   "outputs": [
    {
     "data": {
      "text/plain": [
       "array([1, 2, 3])"
      ]
     },
     "execution_count": 119,
     "metadata": {},
     "output_type": "execute_result"
    }
   ],
   "source": [
    "a1"
   ]
  },
  {
   "cell_type": "code",
   "execution_count": 120,
   "id": "e0f054af",
   "metadata": {},
   "outputs": [
    {
     "data": {
      "text/plain": [
       "array([[1, 2, 3],\n",
       "       [1, 2, 3]])"
      ]
     },
     "execution_count": 120,
     "metadata": {},
     "output_type": "execute_result"
    }
   ],
   "source": [
    "a2"
   ]
  },
  {
   "cell_type": "code",
   "execution_count": 127,
   "id": "70dba4d9",
   "metadata": {},
   "outputs": [
    {
     "data": {
      "text/plain": [
       "array([[ True,  True,  True],\n",
       "       [ True,  True, False]])"
      ]
     },
     "execution_count": 127,
     "metadata": {},
     "output_type": "execute_result"
    }
   ],
   "source": [
    "a1==a2"
   ]
  },
  {
   "cell_type": "code",
   "execution_count": 128,
   "id": "63f9f3e0",
   "metadata": {},
   "outputs": [
    {
     "data": {
      "text/plain": [
       "array([[ True,  True,  True],\n",
       "       [ True,  True, False]])"
      ]
     },
     "execution_count": 128,
     "metadata": {},
     "output_type": "execute_result"
    }
   ],
   "source": [
    "a1>=a2"
   ]
  },
  {
   "cell_type": "code",
   "execution_count": 129,
   "id": "f884a4b3",
   "metadata": {},
   "outputs": [
    {
     "data": {
      "text/plain": [
       "array([ True,  True,  True])"
      ]
     },
     "execution_count": 129,
     "metadata": {},
     "output_type": "execute_result"
    }
   ],
   "source": [
    "a1<5"
   ]
  },
  {
   "cell_type": "code",
   "execution_count": 130,
   "id": "0e5335c5",
   "metadata": {},
   "outputs": [
    {
     "data": {
      "text/plain": [
       "array([[ True,  True,  True],\n",
       "       [ True,  True, False]])"
      ]
     },
     "execution_count": 130,
     "metadata": {},
     "output_type": "execute_result"
    }
   ],
   "source": [
    "a2<5"
   ]
  },
  {
   "cell_type": "code",
   "execution_count": 131,
   "id": "b688fcad",
   "metadata": {},
   "outputs": [
    {
     "data": {
      "text/plain": [
       "array([[False, False, False],\n",
       "       [False, False,  True]])"
      ]
     },
     "execution_count": 131,
     "metadata": {},
     "output_type": "execute_result"
    }
   ],
   "source": [
    "a1!=a2"
   ]
  },
  {
   "cell_type": "code",
   "execution_count": 126,
   "id": "e0ecc226",
   "metadata": {},
   "outputs": [],
   "source": [
    "a2[1,2]=44"
   ]
  },
  {
   "cell_type": "markdown",
   "id": "ecf2d6e6",
   "metadata": {},
   "source": [
    "# Sorting Arrays"
   ]
  },
  {
   "cell_type": "code",
   "execution_count": 135,
   "id": "1c2396e1",
   "metadata": {},
   "outputs": [
    {
     "data": {
      "text/plain": [
       "array([[1, 3, 3, 3, 7],\n",
       "       [0, 1, 9, 9, 0],\n",
       "       [4, 7, 3, 2, 7]])"
      ]
     },
     "execution_count": 135,
     "metadata": {},
     "output_type": "execute_result"
    }
   ],
   "source": [
    "random_array=np.random.randint(10,size=(3,5))\n",
    "random_array"
   ]
  },
  {
   "cell_type": "code",
   "execution_count": 136,
   "id": "038c7598",
   "metadata": {},
   "outputs": [
    {
     "data": {
      "text/plain": [
       "array([[1, 3, 3, 3, 7],\n",
       "       [0, 0, 1, 9, 9],\n",
       "       [2, 3, 4, 7, 7]])"
      ]
     },
     "execution_count": 136,
     "metadata": {},
     "output_type": "execute_result"
    }
   ],
   "source": [
    "np.sort(random_array)"
   ]
  },
  {
   "cell_type": "code",
   "execution_count": 137,
   "id": "47816cfb",
   "metadata": {},
   "outputs": [
    {
     "data": {
      "text/plain": [
       "array([[0, 1, 2, 3, 4],\n",
       "       [0, 4, 1, 2, 3],\n",
       "       [3, 2, 0, 1, 4]], dtype=int64)"
      ]
     },
     "execution_count": 137,
     "metadata": {},
     "output_type": "execute_result"
    }
   ],
   "source": [
    "np.argsort(random_array)"
   ]
  },
  {
   "cell_type": "code",
   "execution_count": 141,
   "id": "4e51cc5a",
   "metadata": {},
   "outputs": [
    {
     "data": {
      "text/plain": [
       "array([2, 2, 1, 1, 0], dtype=int64)"
      ]
     },
     "execution_count": 141,
     "metadata": {},
     "output_type": "execute_result"
    }
   ],
   "source": [
    "np.argmax(random_array,axis=0)"
   ]
  },
  {
   "cell_type": "markdown",
   "id": "df9d945d",
   "metadata": {},
   "source": [
    "# Practical Example"
   ]
  },
  {
   "cell_type": "markdown",
   "id": "11e54f98",
   "metadata": {},
   "source": [
    "<img src=\"cat.jpeg\"/>"
   ]
  },
  {
   "cell_type": "code",
   "execution_count": 145,
   "id": "4db3092d",
   "metadata": {},
   "outputs": [],
   "source": [
    "#turn image into numpy array\n",
    "from matplotlib.image import imread"
   ]
  },
  {
   "cell_type": "code",
   "execution_count": 146,
   "id": "025ad7e6",
   "metadata": {},
   "outputs": [
    {
     "name": "stdout",
     "output_type": "stream",
     "text": [
      "<class 'numpy.ndarray'>\n"
     ]
    }
   ],
   "source": [
    "cat=imread(\"cat.jpeg\")\n",
    "print(type(cat))"
   ]
  },
  {
   "cell_type": "code",
   "execution_count": 148,
   "id": "26ad611f",
   "metadata": {},
   "outputs": [
    {
     "data": {
      "text/plain": [
       "(151875, (225, 225, 3), 3)"
      ]
     },
     "execution_count": 148,
     "metadata": {},
     "output_type": "execute_result"
    }
   ],
   "source": [
    "cat.size,cat.shape,cat.ndim"
   ]
  },
  {
   "cell_type": "code",
   "execution_count": 149,
   "id": "018bb6f8",
   "metadata": {},
   "outputs": [
    {
     "data": {
      "text/plain": [
       "array([[[1, 1, 1],\n",
       "        [1, 1, 1],\n",
       "        [1, 1, 1],\n",
       "        ...,\n",
       "        [1, 1, 1],\n",
       "        [1, 1, 1],\n",
       "        [1, 1, 1]],\n",
       "\n",
       "       [[1, 1, 1],\n",
       "        [1, 1, 1],\n",
       "        [1, 1, 1],\n",
       "        ...,\n",
       "        [1, 1, 1],\n",
       "        [1, 1, 1],\n",
       "        [1, 1, 1]],\n",
       "\n",
       "       [[1, 1, 1],\n",
       "        [1, 1, 1],\n",
       "        [1, 1, 1],\n",
       "        ...,\n",
       "        [1, 1, 1],\n",
       "        [1, 1, 1],\n",
       "        [1, 1, 1]],\n",
       "\n",
       "       [[1, 1, 1],\n",
       "        [1, 1, 1],\n",
       "        [1, 1, 1],\n",
       "        ...,\n",
       "        [1, 1, 1],\n",
       "        [1, 1, 1],\n",
       "        [1, 1, 1]],\n",
       "\n",
       "       [[1, 1, 1],\n",
       "        [1, 1, 1],\n",
       "        [1, 1, 1],\n",
       "        ...,\n",
       "        [1, 1, 1],\n",
       "        [1, 1, 1],\n",
       "        [1, 1, 1]]], dtype=uint8)"
      ]
     },
     "execution_count": 149,
     "metadata": {},
     "output_type": "execute_result"
    }
   ],
   "source": [
    "cat[:5]"
   ]
  },
  {
   "cell_type": "markdown",
   "id": "8d3575d6",
   "metadata": {},
   "source": [
    "<img src=\"zero-to-mastery-ml-master\\images\\numpy-car-photo.png\"/>"
   ]
  },
  {
   "cell_type": "code",
   "execution_count": 156,
   "id": "6ff3f13e",
   "metadata": {},
   "outputs": [
    {
     "data": {
      "text/plain": [
       "numpy.ndarray"
      ]
     },
     "execution_count": 156,
     "metadata": {},
     "output_type": "execute_result"
    }
   ],
   "source": [
    "car=imread(\"zero-to-mastery-ml-master/images/numpy-car-photo.png\")\n",
    "type(car)"
   ]
  },
  {
   "cell_type": "code",
   "execution_count": 157,
   "id": "a488e24f",
   "metadata": {
    "scrolled": true
   },
   "outputs": [
    {
     "data": {
      "text/plain": [
       "array([[[0.5019608 , 0.50980395, 0.4862745 , 1.        ],\n",
       "        [0.3372549 , 0.34509805, 0.30588236, 1.        ],\n",
       "        [0.20392157, 0.21568628, 0.14901961, 1.        ],\n",
       "        ...,\n",
       "        [0.64705884, 0.7058824 , 0.54901963, 1.        ],\n",
       "        [0.59607846, 0.63529414, 0.45882353, 1.        ],\n",
       "        [0.44705883, 0.47058824, 0.3372549 , 1.        ]]], dtype=float32)"
      ]
     },
     "execution_count": 157,
     "metadata": {},
     "output_type": "execute_result"
    }
   ],
   "source": [
    "car[:1]"
   ]
  },
  {
   "cell_type": "markdown",
   "id": "412fe4ef",
   "metadata": {},
   "source": [
    "<img src=\"zero-to-mastery-ml-master/images/numpy-dog-photo.png\"/>"
   ]
  },
  {
   "cell_type": "code",
   "execution_count": 159,
   "id": "5706183f",
   "metadata": {},
   "outputs": [],
   "source": [
    "dog=imread(\"zero-to-mastery-ml-master/images/numpy-dog-photo.png\")"
   ]
  },
  {
   "cell_type": "code",
   "execution_count": 160,
   "id": "eae235ee",
   "metadata": {},
   "outputs": [
    {
     "data": {
      "text/plain": [
       "array([[[0.70980394, 0.80784315, 0.88235295, 1.        ],\n",
       "        [0.72156864, 0.8117647 , 0.8862745 , 1.        ],\n",
       "        [0.7411765 , 0.8156863 , 0.8862745 , 1.        ],\n",
       "        ...,\n",
       "        [0.49803922, 0.6862745 , 0.8392157 , 1.        ],\n",
       "        [0.49411765, 0.68235296, 0.8392157 , 1.        ],\n",
       "        [0.49411765, 0.68235296, 0.8352941 , 1.        ]]], dtype=float32)"
      ]
     },
     "execution_count": 160,
     "metadata": {},
     "output_type": "execute_result"
    }
   ],
   "source": [
    "dog[:1]"
   ]
  },
  {
   "cell_type": "markdown",
   "id": "a96a8a4a",
   "metadata": {},
   "source": [
    "<img src= \"Me.jpg\" />"
   ]
  },
  {
   "cell_type": "code",
   "execution_count": 163,
   "id": "487d22be",
   "metadata": {},
   "outputs": [],
   "source": [
    "me=imread(\"Me.jpg\")"
   ]
  },
  {
   "cell_type": "code",
   "execution_count": 164,
   "id": "782164d4",
   "metadata": {},
   "outputs": [
    {
     "data": {
      "text/plain": [
       "array([[[ 59,  64,  34],\n",
       "        [ 55,  60,  30],\n",
       "        [ 61,  66,  36],\n",
       "        [ 78,  83,  53],\n",
       "        [ 90,  95,  65],\n",
       "        [ 84,  89,  59],\n",
       "        [ 80,  85,  55],\n",
       "        [ 97, 101,  74],\n",
       "        [140, 143, 116],\n",
       "        [191, 193, 169],\n",
       "        [231, 233, 211],\n",
       "        [249, 251, 230],\n",
       "        [249, 250, 232],\n",
       "        [239, 240, 224],\n",
       "        [237, 238, 224],\n",
       "        [237, 238, 224],\n",
       "        [227, 231, 208],\n",
       "        [183, 187, 164],\n",
       "        [135, 137, 116],\n",
       "        [ 88,  90,  69],\n",
       "        [ 69,  68,  50],\n",
       "        [ 65,  62,  45],\n",
       "        [ 73,  67,  51],\n",
       "        [ 64,  57,  41],\n",
       "        [ 73,  64,  47],\n",
       "        [ 76,  65,  47],\n",
       "        [ 80,  69,  49],\n",
       "        [ 82,  71,  49],\n",
       "        [ 86,  74,  48],\n",
       "        [ 91,  80,  52],\n",
       "        [100,  89,  61],\n",
       "        [107,  96,  66],\n",
       "        [113,  93,  68],\n",
       "        [113,  93,  68],\n",
       "        [118, 101,  75],\n",
       "        [127, 113,  84],\n",
       "        [117, 106,  74],\n",
       "        [118, 110,  74],\n",
       "        [110, 106,  68],\n",
       "        [105, 103,  62],\n",
       "        [ 94,  96,  49],\n",
       "        [ 85,  87,  38],\n",
       "        [ 71,  74,  21],\n",
       "        [ 68,  71,  14],\n",
       "        [ 77,  81,  22],\n",
       "        [ 77,  81,  20],\n",
       "        [ 93,  98,  34],\n",
       "        [ 94,  96,  33],\n",
       "        [ 98, 104,  40],\n",
       "        [ 95, 101,  37],\n",
       "        [ 88,  94,  32],\n",
       "        [ 88,  96,  36],\n",
       "        [ 93, 101,  44],\n",
       "        [ 78,  87,  32],\n",
       "        [ 83,  91,  40],\n",
       "        [ 75,  84,  37],\n",
       "        [ 69,  81,  35],\n",
       "        [ 63,  76,  33],\n",
       "        [ 62,  74,  34],\n",
       "        [ 59,  73,  37],\n",
       "        [ 61,  75,  40],\n",
       "        [ 55,  71,  35],\n",
       "        [ 46,  61,  28],\n",
       "        [ 50,  65,  32],\n",
       "        [ 44,  60,  21],\n",
       "        [ 52,  68,  29],\n",
       "        [ 59,  76,  34],\n",
       "        [ 61,  78,  33],\n",
       "        [ 62,  80,  30],\n",
       "        [ 65,  83,  31],\n",
       "        [ 67,  86,  30],\n",
       "        [ 66,  86,  27],\n",
       "        [ 57,  77,  18],\n",
       "        [ 56,  76,  17],\n",
       "        [ 53,  72,  16],\n",
       "        [ 56,  75,  20],\n",
       "        [ 66,  84,  34],\n",
       "        [ 74,  92,  44],\n",
       "        [ 67,  84,  39],\n",
       "        [ 54,  71,  26],\n",
       "        [ 52,  60,  23],\n",
       "        [ 57,  65,  28],\n",
       "        [ 65,  71,  35],\n",
       "        [ 73,  77,  42],\n",
       "        [ 80,  81,  47],\n",
       "        [ 87,  87,  53],\n",
       "        [ 93,  90,  57],\n",
       "        [ 95,  90,  58],\n",
       "        [ 93,  89,  54],\n",
       "        [ 94,  90,  53],\n",
       "        [112, 108,  71],\n",
       "        [129, 127,  88],\n",
       "        [138, 136,  95],\n",
       "        [131, 132,  88],\n",
       "        [114, 115,  71],\n",
       "        [107, 110,  63],\n",
       "        [117, 112,  80],\n",
       "        [116, 111,  79],\n",
       "        [119, 114,  82],\n",
       "        [101,  96,  64],\n",
       "        [ 85,  80,  48],\n",
       "        [ 81,  76,  44],\n",
       "        [103,  98,  66],\n",
       "        [114, 109,  77],\n",
       "        [121, 118,  83],\n",
       "        [122, 119,  84],\n",
       "        [112, 112,  74],\n",
       "        [105, 106,  66],\n",
       "        [103, 106,  63],\n",
       "        [ 96, 102,  58],\n",
       "        [ 90,  96,  50],\n",
       "        [ 94, 100,  54],\n",
       "        [ 99, 103,  52],\n",
       "        [ 96, 100,  49],\n",
       "        [ 99, 104,  50],\n",
       "        [107, 112,  56],\n",
       "        [109, 114,  56],\n",
       "        [107, 113,  51],\n",
       "        [115, 121,  57],\n",
       "        [128, 134,  70],\n",
       "        [131, 138,  71],\n",
       "        [124, 131,  64],\n",
       "        [116, 122,  58],\n",
       "        [110, 116,  52],\n",
       "        [111, 117,  55],\n",
       "        [113, 119,  59],\n",
       "        [112, 118,  58],\n",
       "        [109, 114,  56],\n",
       "        [110, 115,  61],\n",
       "        [115, 120,  66],\n",
       "        [117, 119,  69],\n",
       "        [118, 117,  69],\n",
       "        [120, 119,  73],\n",
       "        [119, 116,  71],\n",
       "        [115, 111,  64],\n",
       "        [114, 110,  62],\n",
       "        [110, 107,  54],\n",
       "        [ 97,  95,  38],\n",
       "        [ 95,  95,  35],\n",
       "        [ 95,  97,  34],\n",
       "        [ 97,  99,  36],\n",
       "        [ 97, 102,  38],\n",
       "        [ 89,  95,  31],\n",
       "        [ 86,  92,  28],\n",
       "        [ 86,  97,  28],\n",
       "        [ 88,  99,  31],\n",
       "        [ 92, 103,  37],\n",
       "        [ 95, 105,  42],\n",
       "        [ 93, 103,  42],\n",
       "        [ 86,  96,  36],\n",
       "        [ 81,  89,  32],\n",
       "        [ 78,  86,  29],\n",
       "        [ 84,  92,  35],\n",
       "        [ 85,  93,  36],\n",
       "        [ 98, 103,  45],\n",
       "        [113, 119,  59],\n",
       "        [126, 132,  70],\n",
       "        [134, 140,  76],\n",
       "        [133, 140,  73],\n",
       "        [124, 131,  64],\n",
       "        [108, 110,  44],\n",
       "        [ 95,  97,  32],\n",
       "        [ 87,  92,  26],\n",
       "        [ 94,  99,  35],\n",
       "        [101, 107,  47],\n",
       "        [101, 106,  48],\n",
       "        [101, 104,  49],\n",
       "        [104, 104,  52],\n",
       "        [104, 102,  51],\n",
       "        [ 92,  90,  41],\n",
       "        [ 92,  90,  41],\n",
       "        [ 83,  81,  32],\n",
       "        [ 90,  90,  38],\n",
       "        [ 93,  98,  44],\n",
       "        [ 70,  77,  23],\n",
       "        [ 67,  74,  20],\n",
       "        [ 72,  80,  43],\n",
       "        [ 93, 100,  66],\n",
       "        [112, 119,  86],\n",
       "        [111, 117,  89],\n",
       "        [ 94, 100,  74],\n",
       "        [ 75,  80,  57],\n",
       "        [ 63,  68,  45],\n",
       "        [ 59,  63,  38],\n",
       "        [ 82,  87,  57],\n",
       "        [129, 135, 101],\n",
       "        [170, 177, 136],\n",
       "        [193, 200, 156],\n",
       "        [185, 193, 146],\n",
       "        [151, 159, 110],\n",
       "        [118, 126,  75],\n",
       "        [ 85,  93,  42],\n",
       "        [ 79,  89,  37],\n",
       "        [ 93, 103,  51],\n",
       "        [121, 131,  79],\n",
       "        [133, 143,  91],\n",
       "        [103, 113,  61],\n",
       "        [ 91, 101,  49],\n",
       "        [ 52,  62,  10],\n",
       "        [ 39,  49,   0],\n",
       "        [ 38,  50,   0],\n",
       "        [ 44,  56,   8],\n",
       "        [ 61,  73,  25],\n",
       "        [ 63,  75,  29],\n",
       "        [ 70,  81,  38],\n",
       "        [ 69,  80,  37],\n",
       "        [ 61,  74,  31],\n",
       "        [ 47,  60,  17],\n",
       "        [ 51,  65,  14],\n",
       "        [ 50,  64,  13],\n",
       "        [ 54,  68,  19],\n",
       "        [ 53,  67,  18],\n",
       "        [ 72,  85,  39],\n",
       "        [ 98, 109,  66],\n",
       "        [ 87,  98,  56],\n",
       "        [ 71,  82,  40],\n",
       "        [ 66,  77,  37],\n",
       "        [ 64,  75,  35],\n",
       "        [ 65,  73,  32],\n",
       "        [ 69,  77,  36],\n",
       "        [ 64,  72,  31],\n",
       "        [ 61,  70,  27],\n",
       "        [ 50,  59,  16],\n",
       "        [ 59,  68,  25],\n",
       "        [ 64,  74,  39],\n",
       "        [ 74,  84,  47],\n",
       "        [ 72,  83,  40],\n",
       "        [ 79,  89,  37],\n",
       "        [ 73,  84,  26],\n",
       "        [ 73,  85,  23],\n",
       "        [ 91, 101,  38],\n",
       "        [ 81,  91,  30],\n",
       "        [ 91, 101,  41],\n",
       "        [ 81,  92,  36],\n",
       "        [ 45,  55,   2],\n",
       "        [ 38,  51,   0],\n",
       "        [ 38,  51,   0],\n",
       "        [ 38,  53,   0],\n",
       "        [ 48,  63,   4],\n",
       "        [ 66,  82,  20],\n",
       "        [ 87, 108,  31],\n",
       "        [ 92, 113,  38],\n",
       "        [ 82, 102,  30],\n",
       "        [ 59,  80,  11],\n",
       "        [ 68,  89,  24],\n",
       "        [ 93, 113,  50],\n",
       "        [ 92, 112,  49],\n",
       "        [ 80, 101,  36],\n",
       "        [ 91, 112,  43],\n",
       "        [108, 130,  55],\n",
       "        [114, 137,  57],\n",
       "        [102, 124,  41],\n",
       "        [ 90, 112,  27],\n",
       "        [ 90, 113,  25],\n",
       "        [ 95, 115,  26],\n",
       "        [ 93, 113,  24],\n",
       "        [ 96, 117,  22],\n",
       "        [102, 123,  32],\n",
       "        [125, 143,  61],\n",
       "        [133, 149,  76],\n",
       "        [147, 162,  97],\n",
       "        [156, 170, 108],\n",
       "        [162, 177, 112],\n",
       "        [159, 174, 105],\n",
       "        [158, 175,  95],\n",
       "        [148, 169,  78],\n",
       "        [139, 161,  61],\n",
       "        [125, 151,  44],\n",
       "        [111, 137,  27],\n",
       "        [106, 134,  23],\n",
       "        [116, 144,  33],\n",
       "        [126, 154,  43],\n",
       "        [134, 165,  48],\n",
       "        [128, 158,  44],\n",
       "        [106, 136,  24],\n",
       "        [ 84, 113,   3],\n",
       "        [ 74, 101,   0],\n",
       "        [ 76, 102,   3],\n",
       "        [ 80, 105,  13],\n",
       "        [ 74,  98,  12],\n",
       "        [ 64,  87,   7],\n",
       "        [ 65,  85,  13],\n",
       "        [ 77,  96,  30],\n",
       "        [ 88, 106,  46],\n",
       "        [115, 132,  78],\n",
       "        [145, 161, 112],\n",
       "        [120, 136,  89],\n",
       "        [117, 130,  86],\n",
       "        [127, 133,  99],\n",
       "        [142, 148, 114],\n",
       "        [151, 157, 123]]], dtype=uint8)"
      ]
     },
     "execution_count": 164,
     "metadata": {},
     "output_type": "execute_result"
    }
   ],
   "source": [
    "me[:1]"
   ]
  },
  {
   "cell_type": "code",
   "execution_count": null,
   "id": "31893461",
   "metadata": {},
   "outputs": [],
   "source": []
  }
 ],
 "metadata": {
  "kernelspec": {
   "display_name": "Python 3 (ipykernel)",
   "language": "python",
   "name": "python3"
  },
  "language_info": {
   "codemirror_mode": {
    "name": "ipython",
    "version": 3
   },
   "file_extension": ".py",
   "mimetype": "text/x-python",
   "name": "python",
   "nbconvert_exporter": "python",
   "pygments_lexer": "ipython3",
   "version": "3.8.8"
  }
 },
 "nbformat": 4,
 "nbformat_minor": 5
}
